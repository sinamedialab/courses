{
  "nbformat": 4,
  "nbformat_minor": 0,
  "metadata": {
    "kernelspec": {
      "display_name": "Python 3",
      "language": "python",
      "name": "python3"
    },
    "language_info": {
      "codemirror_mode": {
        "name": "ipython",
        "version": 3
      },
      "file_extension": ".py",
      "mimetype": "text/x-python",
      "name": "python",
      "nbconvert_exporter": "python",
      "pygments_lexer": "ipython3",
      "version": "3.7.8"
    },
    "colab": {
      "name": "plot_coins_segmentation.ipynb",
      "provenance": [],
      "include_colab_link": true
    }
  },
  "cells": [
    {
      "cell_type": "markdown",
      "metadata": {
        "id": "view-in-github",
        "colab_type": "text"
      },
      "source": [
        "<a href=\"https://colab.research.google.com/github/sinamedialab/courses/blob/main/digital-image-processing/notebooks/applications/plot_coins_segmentation.ipynb\" target=\"_parent\"><img src=\"https://colab.research.google.com/assets/colab-badge.svg\" alt=\"Open In Colab\"/></a>"
      ]
    },
    {
      "cell_type": "code",
      "metadata": {
        "id": "DOD3fc06jOHv"
      },
      "source": [
        "%matplotlib inline"
      ],
      "execution_count": null,
      "outputs": []
    },
    {
      "cell_type": "markdown",
      "metadata": {
        "id": "M4sX_yFQjOHx"
      },
      "source": [
        "\n",
        "# Comparing edge-based and region-based segmentation\n",
        "\n",
        "In this example, we will see how to segment objects from a background. We use\n",
        "the ``coins`` image from ``skimage.data``, which shows several coins outlined\n",
        "against a darker background.\n"
      ]
    },
    {
      "cell_type": "code",
      "metadata": {
        "id": "3eaUunA_jOHx"
      },
      "source": [
        "import numpy as np\n",
        "import matplotlib.pyplot as plt\n",
        "\n",
        "from skimage import data\n",
        "from skimage.exposure import histogram\n",
        "\n",
        "coins = data.coins()\n",
        "hist, hist_centers = histogram(coins)\n",
        "\n",
        "fig, axes = plt.subplots(1, 2, figsize=(8, 3))\n",
        "axes[0].imshow(coins, cmap=plt.cm.gray)\n",
        "axes[0].axis('off')\n",
        "axes[1].plot(hist_centers, hist, lw=2)\n",
        "axes[1].set_title('histogram of gray values')"
      ],
      "execution_count": null,
      "outputs": []
    },
    {
      "cell_type": "markdown",
      "metadata": {
        "id": "VmZ2aRPBjOHx"
      },
      "source": [
        "## Thresholding\n",
        "\n",
        "A simple way to segment the coins is to choose a threshold based on the\n",
        "histogram of gray values. Unfortunately, thresholding this image gives a\n",
        "binary image that either misses significant parts of the coins or merges\n",
        "parts of the background with the coins:\n",
        "\n"
      ]
    },
    {
      "cell_type": "code",
      "metadata": {
        "id": "ZEo7IhfAjOHx"
      },
      "source": [
        "fig, axes = plt.subplots(1, 2, figsize=(8, 3), sharey=True)\n",
        "\n",
        "axes[0].imshow(coins > 100, cmap=plt.cm.gray)\n",
        "axes[0].set_title('coins > 100')\n",
        "\n",
        "axes[1].imshow(coins > 150, cmap=plt.cm.gray)\n",
        "axes[1].set_title('coins > 150')\n",
        "\n",
        "for a in axes:\n",
        "    a.axis('off')\n",
        "\n",
        "plt.tight_layout()"
      ],
      "execution_count": null,
      "outputs": []
    },
    {
      "cell_type": "markdown",
      "metadata": {
        "id": "Q0apT_BpjOHx"
      },
      "source": [
        "## Edge-based segmentation\n",
        "\n",
        "Next, we try to delineate the contours of the coins using edge-based\n",
        "segmentation. To do this, we first get the edges of features using the\n",
        "Canny edge-detector.\n",
        "\n"
      ]
    },
    {
      "cell_type": "code",
      "metadata": {
        "id": "DCxTX-zGjOHx"
      },
      "source": [
        "from skimage.feature import canny\n",
        "\n",
        "edges = canny(coins)\n",
        "\n",
        "fig, ax = plt.subplots(figsize=(4, 3))\n",
        "ax.imshow(edges, cmap=plt.cm.gray)\n",
        "ax.set_title('Canny detector')\n",
        "ax.axis('off')"
      ],
      "execution_count": null,
      "outputs": []
    },
    {
      "cell_type": "markdown",
      "metadata": {
        "id": "MjIvq39WjOHx"
      },
      "source": [
        "These contours are then filled using mathematical morphology.\n",
        "\n"
      ]
    },
    {
      "cell_type": "code",
      "metadata": {
        "id": "qmBb6DeHjOHx"
      },
      "source": [
        "from scipy import ndimage as ndi\n",
        "\n",
        "fill_coins = ndi.binary_fill_holes(edges)\n",
        "\n",
        "fig, ax = plt.subplots(figsize=(4, 3))\n",
        "ax.imshow(fill_coins, cmap=plt.cm.gray)\n",
        "ax.set_title('filling the holes')\n",
        "ax.axis('off')"
      ],
      "execution_count": null,
      "outputs": []
    },
    {
      "cell_type": "markdown",
      "metadata": {
        "id": "sK3IjUZ8jOHx"
      },
      "source": [
        "Small spurious objects are easily removed by setting a minimum size for\n",
        "valid objects.\n",
        "\n"
      ]
    },
    {
      "cell_type": "code",
      "metadata": {
        "id": "pbdOsDs6jOHx"
      },
      "source": [
        "from skimage import morphology\n",
        "\n",
        "coins_cleaned = morphology.remove_small_objects(fill_coins, 21)\n",
        "\n",
        "fig, ax = plt.subplots(figsize=(4, 3))\n",
        "ax.imshow(coins_cleaned, cmap=plt.cm.gray)\n",
        "ax.set_title('removing small objects')\n",
        "ax.axis('off')"
      ],
      "execution_count": null,
      "outputs": []
    },
    {
      "cell_type": "markdown",
      "metadata": {
        "id": "chFzi0D6jOHx"
      },
      "source": [
        "However, this method is not very robust, since contours that are not\n",
        "perfectly closed are not filled correctly, as is the case for one unfilled\n",
        "coin above.\n",
        "\n",
        "## Region-based segmentation\n",
        "\n",
        "We therefore try a region-based method using the watershed transform.\n",
        "First, we find an elevation map using the Sobel gradient of the image.\n",
        "\n"
      ]
    },
    {
      "cell_type": "code",
      "metadata": {
        "id": "JT5AUQByjOHx"
      },
      "source": [
        "from skimage.filters import sobel\n",
        "\n",
        "elevation_map = sobel(coins)\n",
        "\n",
        "fig, ax = plt.subplots(figsize=(4, 3))\n",
        "ax.imshow(elevation_map, cmap=plt.cm.gray)\n",
        "ax.set_title('elevation map')\n",
        "ax.axis('off')"
      ],
      "execution_count": null,
      "outputs": []
    },
    {
      "cell_type": "markdown",
      "metadata": {
        "id": "5oUwtd0sjOHx"
      },
      "source": [
        "Next we find markers of the background and the coins based on the extreme\n",
        "parts of the histogram of gray values.\n",
        "\n"
      ]
    },
    {
      "cell_type": "code",
      "metadata": {
        "id": "TaNYuhB1jOHx"
      },
      "source": [
        "markers = np.zeros_like(coins)\n",
        "markers[coins < 30] = 1\n",
        "markers[coins > 150] = 2\n",
        "\n",
        "fig, ax = plt.subplots(figsize=(4, 3))\n",
        "ax.imshow(markers, cmap=plt.cm.nipy_spectral)\n",
        "ax.set_title('markers')\n",
        "ax.axis('off')"
      ],
      "execution_count": null,
      "outputs": []
    },
    {
      "cell_type": "markdown",
      "metadata": {
        "id": "X_Qzp6wojOHx"
      },
      "source": [
        "Finally, we use the watershed transform to fill regions of the elevation\n",
        "map starting from the markers determined above:\n",
        "\n"
      ]
    },
    {
      "cell_type": "code",
      "metadata": {
        "id": "M8RtH1vJjOHx"
      },
      "source": [
        "from skimage import segmentation\n",
        "\n",
        "segmentation_coins = segmentation.watershed(elevation_map, markers)\n",
        "\n",
        "fig, ax = plt.subplots(figsize=(4, 3))\n",
        "ax.imshow(segmentation_coins, cmap=plt.cm.gray)\n",
        "ax.set_title('segmentation')\n",
        "ax.axis('off')"
      ],
      "execution_count": null,
      "outputs": []
    },
    {
      "cell_type": "markdown",
      "metadata": {
        "id": "1s88NPQWjOHy"
      },
      "source": [
        "This last method works even better, and the coins can be segmented and\n",
        "labeled individually.\n",
        "\n"
      ]
    },
    {
      "cell_type": "code",
      "metadata": {
        "id": "jnIN-n7CjOHy"
      },
      "source": [
        "from skimage.color import label2rgb\n",
        "\n",
        "segmentation_coins = ndi.binary_fill_holes(segmentation_coins - 1)\n",
        "labeled_coins, _ = ndi.label(segmentation_coins)\n",
        "image_label_overlay = label2rgb(labeled_coins, image=coins, bg_label=0)\n",
        "\n",
        "fig, axes = plt.subplots(1, 2, figsize=(8, 3), sharey=True)\n",
        "axes[0].imshow(coins, cmap=plt.cm.gray)\n",
        "axes[0].contour(segmentation_coins, [0.5], linewidths=1.2, colors='y')\n",
        "axes[1].imshow(image_label_overlay)\n",
        "\n",
        "for a in axes:\n",
        "    a.axis('off')\n",
        "\n",
        "plt.tight_layout()\n",
        "\n",
        "plt.show()"
      ],
      "execution_count": null,
      "outputs": []
    }
  ]
}